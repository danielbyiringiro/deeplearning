{
 "cells": [
  {
   "cell_type": "code",
   "execution_count": 1,
   "metadata": {},
   "outputs": [],
   "source": [
    "USER = \"daniel.byiringiro@ashesi.edu.gh\"\n",
    "PASSWORD = \"December@2020\""
   ]
  },
  {
   "cell_type": "code",
   "execution_count": 2,
   "metadata": {},
   "outputs": [
    {
     "name": "stdout",
     "output_type": "stream",
     "text": [
      "File downloaded successfully.\n"
     ]
    }
   ],
   "source": [
    "import requests\n",
    "\n",
    "# URL of the file to download\n",
    "file_url = \"https://fki.tic.heia-fr.ch/DBs/iamDB/data/lines.tgz\"\n",
    "file_url = \"https://fki.tic.heia-fr.ch/DBs/iamDB/data/ascii.tgz\"\n",
    "\n",
    "# Session to handle cookies\n",
    "session = requests.Session()\n",
    "\n",
    "# Perform login\n",
    "login_url = \"https://fki.tic.heia-fr.ch/login\"\n",
    "login_payload = {\"email\": USER, \"password\": PASSWORD}\n",
    "login_response = session.post(login_url, data=login_payload)\n",
    "\n",
    "if \"error\" in login_response.text:\n",
    "    print(\"Login failed.\")\n",
    "else:\n",
    "    # Download the file\n",
    "    file_response = session.get(file_url)\n",
    "\n",
    "    # Check if the file was successfully downloaded (you may need to adjust this based on the actual response structure)\n",
    "    if file_response.status_code == 200:\n",
    "        # Save the file to disk\n",
    "        with open(\"lines.tgz\", \"wb\") as file:\n",
    "            file.write(file_response.content)\n",
    "        print(\"File downloaded successfully.\")\n",
    "    else:\n",
    "        print(f\"Failed to download the file. Status code: {file_response.status_code}\")\n"
   ]
  },
  {
   "cell_type": "code",
   "execution_count": 3,
   "metadata": {},
   "outputs": [
    {
     "name": "stdout",
     "output_type": "stream",
     "text": [
      "Contents extracted to: ascii\n"
     ]
    }
   ],
   "source": [
    "import tarfile\n",
    "import os\n",
    "\n",
    "tgz_file_path = \"lines.tgz\"\n",
    "\n",
    "extracted_dir = \"ascii\"\n",
    "\n",
    "# Create the target directory if it doesn't exist\n",
    "os.makedirs(extracted_dir, exist_ok=True)\n",
    "\n",
    "# Open the tar file\n",
    "with tarfile.open(tgz_file_path, \"r:gz\") as tar:\n",
    "    # Extract all contents to the specified directory\n",
    "    tar.extractall(path=extracted_dir)\n",
    "\n",
    "print(f\"Contents extracted to: {extracted_dir}\")\n"
   ]
  }
 ],
 "metadata": {
  "kernelspec": {
   "display_name": "Python 3",
   "language": "python",
   "name": "python3"
  },
  "language_info": {
   "codemirror_mode": {
    "name": "ipython",
    "version": 3
   },
   "file_extension": ".py",
   "mimetype": "text/x-python",
   "name": "python",
   "nbconvert_exporter": "python",
   "pygments_lexer": "ipython3",
   "version": "3.10.8"
  }
 },
 "nbformat": 4,
 "nbformat_minor": 2
}
